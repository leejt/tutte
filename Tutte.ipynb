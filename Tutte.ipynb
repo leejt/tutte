{
 "cells": [
  {
   "cell_type": "code",
   "execution_count": 235,
   "metadata": {
    "collapsed": false
   },
   "outputs": [],
   "source": [
    "from __future__ import division\n",
    "from math import log, exp, factorial, ceil\n",
    "from random import random\n",
    "from collections import Counter, defaultdict\n",
    "import numpy as np\n",
    "COUNT = 0"
   ]
  },
  {
   "cell_type": "code",
   "execution_count": 1,
   "metadata": {
    "collapsed": false
   },
   "outputs": [],
   "source": [
    "LFMEMO = {}\n",
    "def logfact(n):\n",
    "    # return ln(n!)\n",
    "    # TODO: make smarter\n",
    "    if n in LFMEMO:\n",
    "        return LFMEMO[n]\n",
    "    lf = sum(log(i) for i in range(1, n+1))\n",
    "    LFMEMO[n] = lf\n",
    "    return lf\n",
    "\n",
    "LTMEMO = {}\n",
    "def logtutte(n, m):\n",
    "    global COUNT\n",
    "    COUNT = COUNT + 1\n",
    "    if n < 0 or m < 0:\n",
    "        return -float('inf')\n",
    "    #if (n, m) in LTMEMO:\n",
    "        #return LTMEMO[(n, m)]\n",
    "    val = (n+1)*log(2) + logfact(2*m+1) + logfact(2*m+3*n)\n",
    "    val -= logfact(m)*2 + logfact(n) + logfact(2*m+2*n+2)    \n",
    "    #LTMEMO[(n, m)] = val\n",
    "    return val\n",
    "\n",
    "def tutte(n, m):\n",
    "    return round(exp(logtutte(n, m)))"
   ]
  },
  {
   "cell_type": "code",
   "execution_count": 2,
   "metadata": {
    "collapsed": true
   },
   "outputs": [],
   "source": [
    "def rtutte(n, m):\n",
    "    total = 0\n",
    "    if n > 0:\n",
    "        val = tutte(n-1, m+1)\n",
    "        print('inner', val)\n",
    "        total += val\n",
    "    for j in range(0, m):\n",
    "        for k in range(0, n+1):\n",
    "            a = tutte(k, j)\n",
    "            b = tutte(n-k, m-j-1)\n",
    "            print((k, j), (n-k, m-j-1), a, b, a*b)\n",
    "            total += a*b\n",
    "    return total"
   ]
  },
  {
   "cell_type": "code",
   "execution_count": 3,
   "metadata": {
    "collapsed": false,
    "scrolled": false
   },
   "outputs": [],
   "source": [
    "def logsample(N):\n",
    "    probs = []\n",
    "    sizes = []\n",
    "    for n in range(0, N-1):\n",
    "        m = N - n - 2\n",
    "        probs.append(logtutte(n, m))\n",
    "        sizes.append((n, m))\n",
    "    high = max(probs)\n",
    "    probs = [exp(p - high) for p in probs]\n",
    "    total = sum(probs)\n",
    "    probs = [p/total for p in probs]\n",
    "    tot = 0\n",
    "    for i in range(len(probs)):\n",
    "        tot += probs[i]\n",
    "    n, m = sizes[np.random.choice(N-1, p=probs)]\n",
    "    return n, m"
   ]
  },
  {
   "cell_type": "code",
   "execution_count": 239,
   "metadata": {
    "collapsed": false
   },
   "outputs": [],
   "source": [
    "def choose(n, m, logremaining_graphs):\n",
    "    r = random()\n",
    "    total = 0.0\n",
    "    for j in range(0, m):\n",
    "        for k in range(0, n+1):\n",
    "            logcount = logtutte(k, j) + logtutte(n-k, m-j-1)\n",
    "            p = exp(logcount - logremaining_graphs)\n",
    "            total += p\n",
    "            if total >= r:\n",
    "                return k, j\n",
    "            # there are [count] triangulations with k internal and j+2 external vertices on one side and the rest on the other\n",
    "    raise ValueError(\"should have returned something...%s\"%total)\n",
    "\n",
    "# better method for choosing k, j\n",
    "def choose2(n, m, logremaining_graphs):\n",
    "    r = random()\n",
    "    total = 0.0\n",
    "    if m >= (n+1):\n",
    "        for d in range(n+1):\n",
    "            count = ((d+1)*m)//(n+1)\n",
    "            for c in range(count):\n",
    "                k, j = (d - int(ceil((n+1)*(c+1)/m)) + 1, c)\n",
    "                amt = logtutte(k, j) + logtutte(n-k, m-j-1)\n",
    "                amt = exp(amt - logremaining_graphs)\n",
    "                total += 2*amt\n",
    "                if n == n-k and m == m-j-1:\n",
    "                    total -= amt\n",
    "                if total >= r:\n",
    "                    if random() < 0.5:\n",
    "                        return k, j\n",
    "                    else:\n",
    "                        return n-k, m-j-1\n",
    "    else:\n",
    "        for d in range(m):\n",
    "            count = ((d+1)*(n+1))//m\n",
    "            for c in range(count):\n",
    "                k, j = (c, d - int(ceil(m*(c+1)/(n+1))) + 1)\n",
    "                amt = logtutte(k, j) + logtutte(n-k, m-j-1)\n",
    "                amt = exp(amt - logremaining_graphs)\n",
    "                total += 2*amt\n",
    "                if n == n-k and m == m-j-1:\n",
    "                    total -= amt\n",
    "                if total >= r:\n",
    "                    if random() < 0.5:\n",
    "                        return k, j\n",
    "                    else:\n",
    "                        return n-k, m-j-1\n",
    "    raise ValueError(\"should have returned something...%s\"%total)\n",
    "\n",
    "def logmake_graph(G, internal, external):\n",
    "    n = len(internal)\n",
    "    m = len(external)-2\n",
    "    if n == 0 and m == 0:\n",
    "        # nothing else to add\n",
    "        return\n",
    "    logtotal_graphs = logtutte(n, m)\n",
    "    logadd_internal = logtutte(n-1, m+1)\n",
    "    if random() < exp(logadd_internal - logtotal_graphs):\n",
    "        # add internal triangle\n",
    "        triangle = (external[0], external[1], internal[0])\n",
    "        G.append(triangle)\n",
    "        logmake_graph(G, internal[1:], external + [internal[0]])\n",
    "    else:\n",
    "        logremaining_graphs = logtotal_graphs + log(1 - exp(logadd_internal - logtotal_graphs))\n",
    "        k, j = choose2(n, m, logremaining_graphs)\n",
    "        triangle = (external[0], external[1], external[j+2])\n",
    "        G.append(triangle)\n",
    "        left = external[1:j+3]\n",
    "        right = external[j+2:] + [external[0]]\n",
    "        logmake_graph(G, internal[:k], left)\n",
    "        logmake_graph(G, internal[k:], right)\n",
    "    return G\n",
    "\n",
    "def sample_graph(n, m):\n",
    "    internal = range(m+2, m+n+2)\n",
    "    external = range(0, m+2)\n",
    "    G = []\n",
    "    return logmake_graph(G, internal, external)"
   ]
  },
  {
   "cell_type": "code",
   "execution_count": null,
   "metadata": {
    "collapsed": false
   },
   "outputs": [],
   "source": [
    "# show that the number of graphs generated by this algorithm is the same(ish) as T(n, m)\n",
    "from collections import Counter\n",
    "graphs = Counter()\n",
    "for _ in range(100000):\n",
    "    n = 4\n",
    "    m = 2\n",
    "    internal = range(m+2, m+n+2)\n",
    "    external = range(0, m+2)\n",
    "    G = []\n",
    "    graphs[tuple(logmake_graph(G, internal, external))] += 1\n",
    "print len(graphs), exp(logtutte(n, m))\n",
    "#print graphs"
   ]
  },
  {
   "cell_type": "code",
   "execution_count": null,
   "metadata": {
    "collapsed": false
   },
   "outputs": [],
   "source": [
    "# estimating runtime -- assumed n^1.5\n",
    "COUNT = 0\n",
    "SIZE = 2560\n",
    "for _ in range(20):\n",
    "    G = []\n",
    "    sample_graph(*logsample(SIZE))\n",
    "print COUNT/20"
   ]
  },
  {
   "cell_type": "code",
   "execution_count": 28,
   "metadata": {
    "collapsed": false
   },
   "outputs": [
    {
     "name": "stdout",
     "output_type": "stream",
     "text": [
      "13.8935880661\n"
     ]
    }
   ],
   "source": [
    "import time\n",
    "start = time.time()\n",
    "for _ in range(50):\n",
    "    x = sample_graph(*logsample(200))\n",
    "print time.time() - start"
   ]
  },
  {
   "cell_type": "code",
   "execution_count": null,
   "metadata": {
    "collapsed": false
   },
   "outputs": [],
   "source": [
    "# lol this doesn't really work\n",
    "def make_dual(g):\n",
    "    triples = set()\n",
    "    names = []\n",
    "    pairs = defaultdict(set)\n",
    "    for triple in g:\n",
    "        name = str(triple)\n",
    "        if triple in triples:\n",
    "            name += \"'\"\n",
    "        triples.add(triple)\n",
    "        triple = sorted(triple)\n",
    "        pairs[tuple((triple[0], triple[1]))].add(name)\n",
    "        pairs[tuple((triple[1], triple[2]))].add(name)\n",
    "        pairs[tuple((triple[0], triple[2]))].add(name)\n",
    "        names.append(name)\n",
    "    for p in pairs:\n",
    "        if len(pairs[p]) > 1:\n",
    "            print pairs[p]\n",
    "\n",
    "make_dual(x)"
   ]
  },
  {
   "cell_type": "code",
   "execution_count": 247,
   "metadata": {
    "collapsed": false
   },
   "outputs": [],
   "source": [
    "import sys\n",
    "sys.setrecursionlimit(5000)\n",
    "x = sample_graph(*logsample(10000))"
   ]
  },
  {
   "cell_type": "code",
   "execution_count": 252,
   "metadata": {
    "collapsed": false
   },
   "outputs": [
    {
     "name": "stdout",
     "output_type": "stream",
     "text": [
      "         1522205 function calls (1516212 primitive calls) in 0.750 seconds\n",
      "\n",
      "   Ordered by: standard name\n",
      "\n",
      "   ncalls  tottime  percall  cumtime  percall filename:lineno(function)\n",
      "   185695    0.338    0.000    0.561    0.000 <ipython-input-236-900dbb94d879>:12(logtutte)\n",
      "   924920    0.189    0.000    0.189    0.000 <ipython-input-236-900dbb94d879>:2(logfact)\n",
      "        1    0.005    0.005    0.022    0.022 <ipython-input-238-1ff0ae31bde7>:1(logsample)\n",
      "     1998    0.128    0.000    0.673    0.000 <ipython-input-239-d5a003a618f7>:14(choose2)\n",
      "   5994/1    0.030    0.000    0.728    0.728 <ipython-input-239-d5a003a618f7>:45(logmake_graph)\n",
      "        1    0.000    0.000    0.728    0.728 <ipython-input-239-d5a003a618f7>:69(sample_graph)\n",
      "        1    0.000    0.000    0.750    0.750 <string>:1(<module>)\n",
      "        1    0.000    0.000    0.000    0.000 getlimits.py:94(__new__)\n",
      "    11989    0.001    0.000    0.001    0.000 {len}\n",
      "    87853    0.008    0.000    0.008    0.000 {math.ceil}\n",
      "    95845    0.012    0.000    0.012    0.000 {math.exp}\n",
      "   186982    0.034    0.000    0.034    0.000 {math.log}\n",
      "        1    0.000    0.000    0.000    0.000 {max}\n",
      "     7993    0.001    0.000    0.001    0.000 {method 'append' of 'list' objects}\n",
      "        1    0.000    0.000    0.000    0.000 {method 'choice' of 'mtrand.RandomState' objects}\n",
      "        1    0.000    0.000    0.000    0.000 {method 'disable' of '_lsprof.Profiler' objects}\n",
      "        1    0.000    0.000    0.000    0.000 {method 'get' of 'dict' objects}\n",
      "     7991    0.001    0.000    0.001    0.000 {method 'random' of '_random.Random' objects}\n",
      "     4936    0.003    0.000    0.003    0.000 {range}\n",
      "        1    0.000    0.000    0.000    0.000 {sum}\n",
      "\n",
      "\n"
     ]
    }
   ],
   "source": [
    "import cProfile\n",
    "cProfile.run('sample_graph(*logsample(2000))')"
   ]
  }
 ],
 "metadata": {
  "kernelspec": {
   "display_name": "Python 2",
   "language": "python",
   "name": "python2"
  },
  "language_info": {
   "codemirror_mode": {
    "name": "ipython",
    "version": 2
   },
   "file_extension": ".py",
   "mimetype": "text/x-python",
   "name": "python",
   "nbconvert_exporter": "python",
   "pygments_lexer": "ipython2",
   "version": "2.7.5"
  }
 },
 "nbformat": 4,
 "nbformat_minor": 1
}
